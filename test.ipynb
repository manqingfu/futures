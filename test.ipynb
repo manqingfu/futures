{
 "cells": [
  {
   "cell_type": "code",
   "execution_count": 3,
   "metadata": {},
   "outputs": [
    {
     "data": {
      "text/plain": [
       "0.03813272742532958"
      ]
     },
     "execution_count": 3,
     "metadata": {},
     "output_type": "execute_result"
    }
   ],
   "source": [
    "import numpy as np\n",
    "a=np.random.rand()\n",
    "a"
   ]
  },
  {
   "cell_type": "code",
   "execution_count": 2,
   "metadata": {},
   "outputs": [
    {
     "data": {
      "text/plain": [
       "932"
      ]
     },
     "execution_count": 2,
     "metadata": {},
     "output_type": "execute_result"
    }
   ],
   "source": [
    "466000//500"
   ]
  },
  {
   "cell_type": "code",
   "execution_count": 25,
   "metadata": {},
   "outputs": [
    {
     "data": {
      "text/plain": [
       "0"
      ]
     },
     "execution_count": 25,
     "metadata": {},
     "output_type": "execute_result"
    }
   ],
   "source": [
    "a,b=1,20\n",
    "int(round(a/(a+b),1)*10)"
   ]
  },
  {
   "cell_type": "code",
   "execution_count": 1,
   "metadata": {},
   "outputs": [
    {
     "data": {
      "text/plain": [
       "11"
      ]
     },
     "execution_count": 1,
     "metadata": {},
     "output_type": "execute_result"
    }
   ],
   "source": [
    "a,b=1,10\n",
    "c=[a,b]\n",
    "sum(c)"
   ]
  },
  {
   "cell_type": "code",
   "execution_count": 34,
   "metadata": {},
   "outputs": [
    {
     "data": {
      "text/plain": [
       "(0, 0)"
      ]
     },
     "execution_count": 34,
     "metadata": {},
     "output_type": "execute_result"
    }
   ],
   "source": [
    "import numpy as np\n",
    "\n",
    "Q=np.zeros(((2,5,20)))\n",
    "# np.argmax(Q,axis=0)\n",
    "a,b=np.unravel_index(Q.argmax(),Q[0].shape)\n",
    "a,b"
   ]
  },
  {
   "cell_type": "code",
   "execution_count": 45,
   "metadata": {},
   "outputs": [
    {
     "data": {
      "text/plain": [
       "((1, 1),\n",
       " array([[[1, 2, 3],\n",
       "         [4, 5, 6],\n",
       "         [7, 9, 8]],\n",
       " \n",
       "        [[1, 2, 3],\n",
       "         [7, 9, 8],\n",
       "         [4, 5, 6]]]))"
      ]
     },
     "execution_count": 45,
     "metadata": {},
     "output_type": "execute_result"
    }
   ],
   "source": [
    "a = [1, 2, 3] ; b = [4, 5, 6]; c = [7, 9, 8]\n",
    "w2 = np.array( [ [a,b,c], [a,c,b] ] )\n",
    "np.unravel_index(w2[1].argmax(),w2[0].shape),w2\n",
    "# np.unravel_index(w2.argmax(),w2.shape)"
   ]
  },
  {
   "cell_type": "code",
   "execution_count": 46,
   "metadata": {},
   "outputs": [
    {
     "data": {
      "text/plain": [
       "2"
      ]
     },
     "execution_count": 46,
     "metadata": {},
     "output_type": "execute_result"
    }
   ],
   "source": [
    "len(w2)"
   ]
  },
  {
   "cell_type": "code",
   "execution_count": 19,
   "metadata": {},
   "outputs": [
    {
     "data": {
      "text/plain": [
       "array([[[0., 0., 0., 0., 0., 0., 0., 0., 0., 0., 0., 0., 0., 0., 0., 0.,\n",
       "         0., 0., 0., 0.],\n",
       "        [0., 0., 5., 0., 0., 0., 0., 0., 0., 0., 0., 0., 0., 0., 0., 0.,\n",
       "         0., 0., 0., 0.],\n",
       "        [0., 0., 0., 0., 0., 0., 0., 0., 0., 0., 0., 0., 0., 0., 0., 0.,\n",
       "         0., 0., 0., 0.],\n",
       "        [0., 0., 0., 0., 0., 0., 0., 0., 0., 0., 0., 0., 0., 0., 0., 0.,\n",
       "         0., 0., 0., 0.],\n",
       "        [0., 0., 0., 0., 0., 0., 0., 0., 0., 0., 0., 0., 0., 0., 0., 0.,\n",
       "         0., 0., 0., 0.]],\n",
       "\n",
       "       [[0., 0., 0., 0., 0., 0., 0., 0., 0., 0., 0., 0., 0., 0., 0., 0.,\n",
       "         0., 0., 0., 0.],\n",
       "        [0., 0., 0., 0., 0., 0., 0., 0., 0., 0., 0., 0., 0., 0., 0., 0.,\n",
       "         0., 0., 0., 0.],\n",
       "        [0., 0., 0., 0., 0., 0., 0., 0., 0., 0., 0., 0., 0., 0., 0., 0.,\n",
       "         0., 0., 0., 0.],\n",
       "        [0., 0., 0., 0., 0., 0., 0., 0., 0., 0., 0., 0., 0., 0., 0., 0.,\n",
       "         0., 0., 0., 0.],\n",
       "        [0., 0., 0., 0., 0., 0., 0., 0., 0., 0., 0., 0., 0., 0., 0., 0.,\n",
       "         0., 0., 0., 0.]]])"
      ]
     },
     "execution_count": 19,
     "metadata": {},
     "output_type": "execute_result"
    }
   ],
   "source": [
    "Q=np.zeros(((2,5,20)))\n",
    "Q[0][1][2]=5\n",
    "Q"
   ]
  },
  {
   "cell_type": "code",
   "execution_count": 35,
   "metadata": {},
   "outputs": [
    {
     "data": {
      "text/plain": [
       "(1, 2, -8)"
      ]
     },
     "execution_count": 35,
     "metadata": {},
     "output_type": "execute_result"
    }
   ],
   "source": [
    "import random\n",
    "policy=(random.choice([-1,1]),random.randint(1,5),random.randint(-10,10))\n",
    "policy"
   ]
  },
  {
   "cell_type": "code",
   "execution_count": 51,
   "metadata": {},
   "outputs": [
    {
     "name": "stdout",
     "output_type": "stream",
     "text": [
      "[0, 1, 2, 3, 4, 5, 6, 7, 8, 9, 10, 11, 12, 13, 14, 15, 16, 17, 18, 19, 20, 21, 22, 23, 24, 25, 26, 27, 28, 29, 30, 31, 32, 33, 34, 35, 36, 37, 38, 39, 40, 41, 42, 43, 44, 45, 46, 47, 48, 49, 50, 51, 52, 53, 54, 55, 56, 57, 58, 59, 60, 61, 62, 63, 64, 65, 66, 67, 68, 69, 70, 71, 72, 73, 74, 75, 76, 77, 78, 79, 80, 81, 82, 83, 84, 85, 86, 87, 88, 89, 90, 91, 92, 93, 94, 95, 96, 97, 98, 99, 100]\n"
     ]
    },
    {
     "data": {
      "text/plain": [
       "(10.0, 100)"
      ]
     },
     "execution_count": 51,
     "metadata": {},
     "output_type": "execute_result"
    }
   ],
   "source": [
    "import numpy as np\n",
    "q=[0]*101\n",
    "v=[i for i in range(101)]\n",
    "print(v)\n",
    "round((v.index(np.max(v)))/10,1),v[int(round((v.index(np.max(v)))/10,1)*10)]"
   ]
  },
  {
   "cell_type": "code",
   "execution_count": 53,
   "metadata": {},
   "outputs": [
    {
     "data": {
      "text/plain": [
       "-0.1"
      ]
     },
     "execution_count": 53,
     "metadata": {},
     "output_type": "execute_result"
    }
   ],
   "source": [
    "horizon=0.1\n",
    "if abs(horizon)==0.1:\n",
    "    horizon=horizon+0.2 if horizon<0 else horizon-0.2\n",
    "else:\n",
    "    horizon=horizon+0.1 if horizon<0 else horizon-0.1\n",
    "horizon"
   ]
  },
  {
   "cell_type": "code",
   "execution_count": 19,
   "metadata": {},
   "outputs": [
    {
     "data": {
      "image/png": "[encoded data removed]",
      "text/plain": [
       "<Figure size 640x480 with 1 Axes>"
      ]
     },
     "metadata": {},
     "output_type": "display_data"
    }
   ],
   "source": [
    "import numpy as np\n",
    "import matplotlib.pyplot as plt\n",
    "# round(list(np.random.normal(-2, 10**0.5, 1))[0],0)\n",
    "y=list(np.random.normal(2.052, 3.82**0.5, 200))\n",
    "y=[abs(round(i,1)) for i in y if 0<=i<=10]\n",
    "plt.hist(y,100,density=True)\n",
    "plt.show()"
   ]
  },
  {
   "cell_type": "code",
   "execution_count": 20,
   "metadata": {},
   "outputs": [
    {
     "data": {
      "text/plain": [
       "(166, 60)"
      ]
     },
     "execution_count": 20,
     "metadata": {},
     "output_type": "execute_result"
    }
   ],
   "source": [
    "len(y),len(set(y))"
   ]
  },
  {
   "cell_type": "code",
   "execution_count": 2,
   "metadata": {},
   "outputs": [
    {
     "data": {
      "image/png": "[encoded data removed]",
      "text/plain": [
       "<Figure size 640x480 with 1 Axes>"
      ]
     },
     "metadata": {},
     "output_type": "display_data"
    }
   ],
   "source": [
    "import numpy as np\n",
    "from scipy.stats import beta\n",
    "from scipy.stats import cauchy\n",
    "import matplotlib.pyplot as plt\n",
    "# round(list(np.random.normal(2, 10, 1))[0],1)\n",
    "y=np.random.normal(-2,10**0.5,10000)\n",
    "plt.hist(y,100,density=True)\n",
    "plt.legend(['Gauss'])\n",
    "plt.show()"
   ]
  },
  {
   "cell_type": "code",
   "execution_count": 72,
   "metadata": {},
   "outputs": [
    {
     "data": {
      "text/plain": [
       "(-1.9833882059988046, 9.76685181564542)"
      ]
     },
     "execution_count": 72,
     "metadata": {},
     "output_type": "execute_result"
    }
   ],
   "source": [
    "np.mean(y),np.var(y)"
   ]
  },
  {
   "cell_type": "code",
   "execution_count": 4,
   "metadata": {},
   "outputs": [
    {
     "data": {
      "image/png": "[encoded data removed]",
      "text/plain": [
       "<Figure size 640x480 with 1 Axes>"
      ]
     },
     "metadata": {},
     "output_type": "display_data"
    }
   ],
   "source": [
    "a=0.5\n",
    "b=0.5\n",
    "x=np.arange(0.01,1,0.01)\n",
    "y=beta.pdf(x,a,b)\n",
    "plt.plot(x,y)\n",
    "plt.title('Beta')\n",
    "plt.xlabel('x')\n",
    "plt.ylabel('density')\n",
    "plt.show()\n"
   ]
  },
  {
   "cell_type": "code",
   "execution_count": 29,
   "metadata": {},
   "outputs": [
    {
     "data": {
      "image/png": "[encoded data removed]",
      "text/plain": [
       "<Figure size 640x480 with 1 Axes>"
      ]
     },
     "metadata": {},
     "output_type": "display_data"
    }
   ],
   "source": [
    "#需要导入的库\n",
    "import numpy as np\n",
    "import matplotlib.pyplot as plt\n",
    "import scipy.special as sps\n",
    "\n",
    "shape,scale=2.,2.\n",
    "s=np.random.gamma(shape,scale,1000)\n",
    "count, bins, ignored = plt.hist(s, 50)#50：是50个条形图\n",
    "'''\n",
    "根据伽马分布的概率密度\n",
    "伽马分布常被用来模拟电子元件的失效时间，\n",
    "并且在泊松分布事件之间的等待时间相关的过程中自然产生。\n",
    "'''\n",
    "y=bins**(shape-1)*(np.exp(-bins/scale)/(sps.gamma(shape)*scale**shape))\n",
    "plt.title('gamma')\n",
    "plt.plot(bins,y,linewidth=2,color='r')\n",
    "plt.show()"
   ]
  },
  {
   "cell_type": "code",
   "execution_count": 42,
   "metadata": {},
   "outputs": [
    {
     "name": "stdout",
     "output_type": "stream",
     "text": [
      "[0.2005352  1.03754156]\n"
     ]
    },
    {
     "data": {
      "image/png": "[encoded data removed]",
      "text/plain": [
       "<Figure size 640x480 with 2 Axes>"
      ]
     },
     "metadata": {},
     "output_type": "display_data"
    }
   ],
   "source": [
    "cnt=100 #抽样1000个样本点\n",
    "x=np.random.standard_cauchy(2)\n",
    "print(x)\n",
    "y=np.random.randn(cnt)\n",
    "\n",
    "plt.figure()\n",
    "plt.subplot(3,1,1)\n",
    "plt.hist(x,100,density=True)\n",
    "plt.legend(['normal Cauchy'])\n",
    "\n",
    "plt.subplot(3,1,2)\n",
    "plt.hist(y,100,density=True)\n",
    "plt.legend(['Gauss'])\n",
    "plt.show()"
   ]
  },
  {
   "cell_type": "code",
   "execution_count": 38,
   "metadata": {},
   "outputs": [
    {
     "name": "stdout",
     "output_type": "stream",
     "text": [
      "Distribution : \n",
      " [0.         0.10204082 0.20408163 0.30612245 0.40816327 0.51020408\n",
      " 0.6122449  0.71428571 0.81632653 0.91836735 1.02040816 1.12244898\n",
      " 1.2244898  1.32653061 1.42857143 1.53061224 1.63265306 1.73469388\n",
      " 1.83673469 1.93877551 2.04081633 2.14285714 2.24489796 2.34693878\n",
      " 2.44897959 2.55102041 2.65306122 2.75510204 2.85714286 2.95918367\n",
      " 3.06122449 3.16326531 3.26530612 3.36734694 3.46938776 3.57142857\n",
      " 3.67346939 3.7755102  3.87755102 3.97959184 4.08163265 4.18367347\n",
      " 4.28571429 4.3877551  4.48979592 4.59183673 4.69387755 4.79591837\n",
      " 4.89795918 5.        ]\n"
     ]
    },
    {
     "data": {
      "image/png": "[encoded data removed]",
      "text/plain": [
       "<Figure size 640x480 with 1 Axes>"
      ]
     },
     "metadata": {},
     "output_type": "display_data"
    }
   ],
   "source": [
    "import numpy as np \n",
    "import matplotlib.pyplot as plt \n",
    "\n",
    "rv=cauchy()\n",
    "distribution = np.linspace(0, np.minimum(rv.dist.b, 5)) \n",
    "print(\"Distribution : \\n\", distribution) \n",
    "  \n",
    "plot = plt.plot(distribution, rv.pdf(distribution))"
   ]
  },
  {
   "cell_type": "code",
   "execution_count": 50,
   "metadata": {},
   "outputs": [
    {
     "data": {
      "image/png": "[encoded data removed]",
      "text/plain": [
       "<Figure size 640x480 with 1 Axes>"
      ]
     },
     "metadata": {},
     "output_type": "display_data"
    }
   ],
   "source": [
    "from scipy.stats import poisson\n",
    "# import seaborn as sb\n",
    "\n",
    "data_binom = poisson.rvs(mu=8, size=10000)\n",
    "plt.figure()\n",
    "plt.subplot(2,1,1)\n",
    "plt.hist(data_binom,100,density=True)\n",
    "plt.legend(['poisson'])\n",
    "plt.show()"
   ]
  },
  {
   "cell_type": "code",
   "execution_count": 49,
   "metadata": {},
   "outputs": [
    {
     "data": {
      "text/plain": [
       "(99916, 9.9916)"
      ]
     },
     "execution_count": 49,
     "metadata": {},
     "output_type": "execute_result"
    }
   ],
   "source": [
    "data_binom.sum(),np.mean(data_binom)"
   ]
  },
  {
   "cell_type": "code",
   "execution_count": 13,
   "metadata": {},
   "outputs": [
    {
     "name": "stdout",
     "output_type": "stream",
     "text": [
      "接到15个骚扰电话的概率： 0.0516488535317584\n",
      "接到24个骚扰电话以下的概率： 0.8432273781737633\n"
     ]
    }
   ],
   "source": [
    "import math\n",
    " \n",
    "def p_possion(k, m):\n",
    "    kjie = 1  #k!\n",
    "    for i in range(1, k+1):\n",
    "        kjie*=i\n",
    "    pk = math.pow(m, k)/kjie*math.e**(-m)\n",
    "    return pk\n",
    " \n",
    "p = p_possion(15, 20)\n",
    "print(\"接到15个骚扰电话的概率：\",p)\n",
    " \n",
    "p=0\n",
    "for i in range(0,25):\n",
    "    p+=p_possion(i, 20)\n",
    "print(\"接到24个骚扰电话以下的概率：\",p)"
   ]
  },
  {
   "cell_type": "code",
   "execution_count": 14,
   "metadata": {},
   "outputs": [
    {
     "name": "stdout",
     "output_type": "stream",
     "text": [
      "接到15个骚扰电话的概率： 0.05164885353175814\n",
      "接到24个骚扰电话以下的概率： 0.8432273781737623\n"
     ]
    }
   ],
   "source": [
    "from scipy import stats\n",
    " \n",
    "p = stats.poisson.pmf(15, 20)\n",
    "print(\"接到15个骚扰电话的概率：\",p)\n",
    " \n",
    "p = stats.poisson.cdf(24, 20)\n",
    "print(\"接到24个骚扰电话以下的概率：\",p)"
   ]
  },
  {
   "cell_type": "code",
   "execution_count": null,
   "metadata": {},
   "outputs": [],
   "source": []
  }
 ],
 "metadata": {
  "kernelspec": {
   "display_name": "Python 3",
   "language": "python",
   "name": "python3"
  },
  "language_info": {
   "codemirror_mode": {
    "name": "ipython",
    "version": 3
   },
   "file_extension": ".py",
   "mimetype": "text/x-python",
   "name": "python",
   "nbconvert_exporter": "python",
   "pygments_lexer": "ipython3",
   "version": "3.10.6"
  },
  "orig_nbformat": 4,
  "vscode": {
   "interpreter": {
    "hash": "34f0fb4941c31d8aac11b2fef9c9829c34cc11b1b20597ae5a25749ba78141d3"
   }
  }
 },
 "nbformat": 4,
 "nbformat_minor": 2
}
