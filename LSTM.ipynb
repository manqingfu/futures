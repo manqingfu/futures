{
 "cells": [
  {
   "cell_type": "code",
   "execution_count": 1,
   "metadata": {},
   "outputs": [
    {
     "data": {
      "text/plain": [
       "'f:\\\\python310\\\\python.exe'"
      ]
     },
     "execution_count": 1,
     "metadata": {},
     "output_type": "execute_result"
    }
   ],
   "source": [
    "import sys\n",
    "sys.executable"
   ]
  },
  {
   "cell_type": "code",
   "execution_count": 9,
   "metadata": {},
   "outputs": [],
   "source": [
    "import pandas as pd\n",
    "import numpy as np\n",
    "import matplotlib.pyplot as plt\n",
    "import tensorflow as tf"
   ]
  },
  {
   "cell_type": "code",
   "execution_count": 3,
   "metadata": {},
   "outputs": [],
   "source": [
    "data=pd.read_csv(r\"data.csv\")\n",
    "con=data['con_settlement'].values.tolist()\n",
    "act=data['act_settlement'].values.tolist()"
   ]
  },
  {
   "cell_type": "code",
   "execution_count": 4,
   "metadata": {},
   "outputs": [
    {
     "data": {
      "text/plain": [
       "932"
      ]
     },
     "execution_count": 4,
     "metadata": {},
     "output_type": "execute_result"
    }
   ],
   "source": [
    "r_con=[]\n",
    "for i in range(1,len(con)):\n",
    "    r_con.append((con[i]-con[i-1])*100/con[i-1])\n",
    "len(r_con)"
   ]
  },
  {
   "cell_type": "code",
   "execution_count": 6,
   "metadata": {},
   "outputs": [],
   "source": [
    "#定义常量\n",
    "rnn_unit=10       #hidden layer units\n",
    "input_size=7\n",
    "output_size=1\n",
    "lr=0.0006         #学习率"
   ]
  },
  {
   "cell_type": "code",
   "execution_count": 10,
   "metadata": {},
   "outputs": [
    {
     "ename": "AttributeError",
     "evalue": "module 'tensorflow' has no attribute 'compat'",
     "output_type": "error",
     "traceback": [
      "\u001b[1;31m---------------------------------------------------------------------------\u001b[0m",
      "\u001b[1;31mAttributeError\u001b[0m                            Traceback (most recent call last)",
      "Cell \u001b[1;32mIn [10], line 2\u001b[0m\n\u001b[0;32m      1\u001b[0m weights\u001b[39m=\u001b[39m{\n\u001b[1;32m----> 2\u001b[0m          \u001b[39m'\u001b[39m\u001b[39min\u001b[39m\u001b[39m'\u001b[39m:tf\u001b[39m.\u001b[39;49mcompat\u001b[39m.\u001b[39mv1\u001b[39m.\u001b[39mVariable(tf\u001b[39m.\u001b[39mrandom_normal([input_size,rnn_unit])),\n\u001b[0;32m      3\u001b[0m          \u001b[39m'\u001b[39m\u001b[39mout\u001b[39m\u001b[39m'\u001b[39m:tf\u001b[39m.\u001b[39mcompat\u001b[39m.\u001b[39mv1\u001b[39m.\u001b[39mVariable(tf\u001b[39m.\u001b[39mrandom_normal([rnn_unit,\u001b[39m1\u001b[39m]))\n\u001b[0;32m      4\u001b[0m         }\n\u001b[0;32m      5\u001b[0m biases\u001b[39m=\u001b[39m{\n\u001b[0;32m      6\u001b[0m         \u001b[39m'\u001b[39m\u001b[39min\u001b[39m\u001b[39m'\u001b[39m:tf\u001b[39m.\u001b[39mcompat\u001b[39m.\u001b[39mv1\u001b[39m.\u001b[39mVariable(tf\u001b[39m.\u001b[39mconstant(\u001b[39m0.1\u001b[39m,shape\u001b[39m=\u001b[39m[rnn_unit,])),\n\u001b[0;32m      7\u001b[0m         \u001b[39m'\u001b[39m\u001b[39mout\u001b[39m\u001b[39m'\u001b[39m:tf\u001b[39m.\u001b[39mcompat\u001b[39m.\u001b[39mv1\u001b[39m.\u001b[39mVariable(tf\u001b[39m.\u001b[39mconstant(\u001b[39m0.1\u001b[39m,shape\u001b[39m=\u001b[39m[\u001b[39m1\u001b[39m,]))\n\u001b[0;32m      8\u001b[0m        }\n",
      "\u001b[1;31mAttributeError\u001b[0m: module 'tensorflow' has no attribute 'compat'"
     ]
    }
   ],
   "source": [
    "weights={\n",
    "         'in':tf.compat.v1.Variable(tf.random_normal([input_size,rnn_unit])),\n",
    "         'out':tf.compat.v1.Variable(tf.random_normal([rnn_unit,1]))\n",
    "        }\n",
    "biases={\n",
    "        'in':tf.compat.v1.Variable(tf.constant(0.1,shape=[rnn_unit,])),\n",
    "        'out':tf.compat.v1.Variable(tf.constant(0.1,shape=[1,]))\n",
    "       }"
   ]
  },
  {
   "cell_type": "code",
   "execution_count": null,
   "metadata": {},
   "outputs": [],
   "source": []
  }
 ],
 "metadata": {
  "kernelspec": {
   "display_name": "Python 3.10.6 64-bit",
   "language": "python",
   "name": "python3"
  },
  "language_info": {
   "codemirror_mode": {
    "name": "ipython",
    "version": 3
   },
   "file_extension": ".py",
   "mimetype": "text/x-python",
   "name": "python",
   "nbconvert_exporter": "python",
   "pygments_lexer": "ipython3",
   "version": "3.10.6"
  },
  "orig_nbformat": 4,
  "vscode": {
   "interpreter": {
    "hash": "34f0fb4941c31d8aac11b2fef9c9829c34cc11b1b20597ae5a25749ba78141d3"
   }
  }
 },
 "nbformat": 4,
 "nbformat_minor": 2
}
