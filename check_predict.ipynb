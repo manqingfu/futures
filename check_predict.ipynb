{
 "cells": [
  {
   "cell_type": "code",
   "execution_count": 19,
   "metadata": {},
   "outputs": [],
   "source": [
    "import pickle\n",
    "fr=open(\"predict.txt\",\"rb\")\n",
    "result=pickle.load(fr)\n",
    "con_p=result[0][-20:]\n",
    "act_p=result[1][-20:]"
   ]
  },
  {
   "cell_type": "code",
   "execution_count": 20,
   "metadata": {},
   "outputs": [
    {
     "name": "stdout",
     "output_type": "stream",
     "text": [
      "[654.7, 723.7, 696.0, 710.2, 694.9, 699.8, 677.3, 692.7, 671.0, 690.9, 678.4, 676.3, 686.9, 682.8, 696.0, 710.4, 682.0, 713.9, 741.1, 708.1] [625.7, 692.4, 695.8, 682.3, 681.3, 687.2, 671.2, 671.7, 658.0, 663.9, 657.8, 662.5, 667.5, 658.9, 671.3, 673.4, 679.7, 684.4, 683.2, 700.0]\n"
     ]
    }
   ],
   "source": [
    "print(con_p,act_p)"
   ]
  },
  {
   "cell_type": "code",
   "execution_count": 21,
   "metadata": {},
   "outputs": [],
   "source": [
    "import pandas as pd\n",
    "\n",
    "data=pd.read_csv(r\"data.csv\")\n",
    "data=data.iloc[-20:,:]\n",
    "con=data['con_settlement'].values.tolist()\n",
    "act=data['act_settlement'].values.tolist()"
   ]
  },
  {
   "cell_type": "code",
   "execution_count": 22,
   "metadata": {},
   "outputs": [
    {
     "name": "stdout",
     "output_type": "stream",
     "text": [
      "[698.9, 702.4, 688.5, 684.5, 687.6, 677.6, 678.5, 666.2, 664.5, 667.3, 671.7, 670.0, 670.6, 674.5, 683.6, 680.0, 684.7, 696.0, 696.5, 700.0] [698.9, 702.4, 688.5, 684.5, 687.6, 670.8, 671.9, 662.4, 667.2, 670.7, 670.0, 670.9, 673.0, 678.4, 688.2, 683.5, 684.7, 696.0, 696.5, 700.0]\n"
     ]
    }
   ],
   "source": [
    "print(con,act)"
   ]
  },
  {
   "cell_type": "code",
   "execution_count": 29,
   "metadata": {},
   "outputs": [
    {
     "name": "stdout",
     "output_type": "stream",
     "text": [
      "0\n",
      "1\n",
      "3\n",
      "5\n",
      "7\n",
      "9\n",
      "12\n",
      "15\n",
      "17\n",
      "18\n"
     ]
    },
    {
     "data": {
      "text/plain": [
       "0.5"
      ]
     },
     "execution_count": 29,
     "metadata": {},
     "output_type": "execute_result"
    }
   ],
   "source": [
    "count=0\n",
    "for i in range(20):\n",
    "    if abs((con[i]-con_p[i])/con[i])<0.02:\n",
    "        count+=1\n",
    "    else:\n",
    "        print(i)\n",
    "count/20"
   ]
  },
  {
   "cell_type": "code",
   "execution_count": 28,
   "metadata": {},
   "outputs": [
    {
     "name": "stdout",
     "output_type": "stream",
     "text": [
      "0\n",
      "5\n",
      "13\n",
      "14\n"
     ]
    },
    {
     "data": {
      "text/plain": [
       "0.8"
      ]
     },
     "execution_count": 28,
     "metadata": {},
     "output_type": "execute_result"
    }
   ],
   "source": [
    "count=0\n",
    "for i in range(20):\n",
    "    if abs((act[i]-act_p[i])/act[i])<0.02:\n",
    "        count+=1\n",
    "    else:\n",
    "        print(i)\n",
    "count/20"
   ]
  },
  {
   "cell_type": "code",
   "execution_count": 24,
   "metadata": {},
   "outputs": [
    {
     "data": {
      "text/plain": [
       "0.8023777032912209"
      ]
     },
     "execution_count": 24,
     "metadata": {},
     "output_type": "execute_result"
    }
   ],
   "source": [
    "diff=0\n",
    "for i in range(20):\n",
    "    diff+=(con[i]-con_p[i])**2/con[i]\n",
    "(diff/20)**0.5"
   ]
  },
  {
   "cell_type": "code",
   "execution_count": 16,
   "metadata": {},
   "outputs": [
    {
     "data": {
      "text/plain": [
       "0.6058372385811897"
      ]
     },
     "execution_count": 16,
     "metadata": {},
     "output_type": "execute_result"
    }
   ],
   "source": [
    "diff=0\n",
    "for i in range(20):\n",
    "    diff+=(act[i]-act_p[i])**2/act[i]\n",
    "(diff/20)**0.5"
   ]
  },
  {
   "cell_type": "code",
   "execution_count": null,
   "metadata": {},
   "outputs": [],
   "source": []
  }
 ],
 "metadata": {
  "kernelspec": {
   "display_name": "Python 3.10.8 64-bit",
   "language": "python",
   "name": "python3"
  },
  "language_info": {
   "codemirror_mode": {
    "name": "ipython",
    "version": 3
   },
   "file_extension": ".py",
   "mimetype": "text/x-python",
   "name": "python",
   "nbconvert_exporter": "python",
   "pygments_lexer": "ipython3",
   "version": "3.10.8"
  },
  "orig_nbformat": 4,
  "vscode": {
   "interpreter": {
    "hash": "47e86d731e077963188d400b641a1f5cee6401b89b8a1175acb1a082248e2517"
   }
  }
 },
 "nbformat": 4,
 "nbformat_minor": 2
}
